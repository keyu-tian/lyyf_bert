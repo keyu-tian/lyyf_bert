{
 "cells": [
  {
   "cell_type": "code",
   "execution_count": 2,
   "id": "cd0d57d5",
   "metadata": {},
   "outputs": [
    {
     "name": "stdout",
     "output_type": "stream",
     "text": [
      "Defaulting to user installation because normal site-packages is not writeable\n",
      "Requirement already satisfied: pytorch-crf in /home/tiger/.local/lib/python3.7/site-packages (0.7.2)\n",
      "\u001b[33mWARNING: You are using pip version 20.2.4; however, version 21.3.1 is available.\n",
      "You should consider upgrading via the '/usr/bin/python3 -m pip install --upgrade pip' command.\u001b[0m\n"
     ]
    }
   ],
   "source": [
    "!pip3 install pytorch-crf"
   ]
  },
  {
   "cell_type": "code",
   "execution_count": 9,
   "id": "1b9e808a",
   "metadata": {},
   "outputs": [
    {
     "name": "stdout",
     "output_type": "stream",
     "text": [
      "2021-11-20 00:29:34.982570: I tensorflow/stream_executor/platform/default/dso_loader.cc:49] Successfully opened dynamic library libcudart.so.11.0\n",
      "device: cuda:0\n",
      "--------Process Done!--------\n",
      "--------Dataset Build!--------\n",
      "--------Get Dataloader!--------\n",
      "Some weights of the model checkpoint at pretrained_bert_models/chinese_roberta_wwm_large_ext/ were not used when initializing BertNER: ['cls.predictions.bias', 'cls.predictions.transform.dense.weight', 'cls.predictions.transform.dense.bias', 'cls.predictions.transform.LayerNorm.weight', 'cls.predictions.transform.LayerNorm.bias', 'cls.predictions.decoder.weight', 'cls.seq_relationship.weight', 'cls.seq_relationship.bias']\n",
      "- This IS expected if you are initializing BertNER from the checkpoint of a model trained on another task or with another architecture (e.g. initializing a BertForSequenceClassification model from a BertForPreTraining model).\n",
      "- This IS NOT expected if you are initializing BertNER from the checkpoint of a model that you expect to be exactly identical (initializing a BertForSequenceClassification model from a BertForSequenceClassification model).\n",
      "Some weights of BertNER were not initialized from the model checkpoint at pretrained_bert_models/chinese_roberta_wwm_large_ext/ and are newly initialized: ['bilstm.weight_ih_l0', 'bilstm.weight_hh_l0', 'bilstm.bias_ih_l0', 'bilstm.bias_hh_l0', 'bilstm.weight_ih_l0_reverse', 'bilstm.weight_hh_l0_reverse', 'bilstm.bias_ih_l0_reverse', 'bilstm.bias_hh_l0_reverse', 'bilstm.weight_ih_l1', 'bilstm.weight_hh_l1', 'bilstm.bias_ih_l1', 'bilstm.bias_hh_l1', 'bilstm.weight_ih_l1_reverse', 'bilstm.weight_hh_l1_reverse', 'bilstm.bias_ih_l1_reverse', 'bilstm.bias_hh_l1_reverse', 'classifier.weight', 'classifier.bias', 'crf.start_transitions', 'crf.end_transitions', 'crf.transitions']\n",
      "You should probably TRAIN this model on a down-stream task to be able to use it for predictions and inference.\n",
      "--------Start Training!--------\n",
      "100%|█████████████████████████████████████████| 424/424 [02:34<00:00,  2.75it/s]\n",
      "Epoch: 1, train loss: 255.31483241747011\n",
      "Epoch: 1, dev loss: 92.43443155288696, f1 score: 0.6551724137931034\n",
      "--------Save best model!--------\n",
      "100%|█████████████████████████████████████████| 424/424 [02:32<00:00,  2.79it/s]\n",
      "Epoch: 2, train loss: 68.1212798154579\n",
      "Epoch: 2, dev loss: 61.91875739892324, f1 score: 0.7733245729303548\n",
      "--------Save best model!--------\n",
      "100%|█████████████████████████████████████████| 424/424 [02:33<00:00,  2.77it/s]\n",
      "Epoch: 3, train loss: 45.36293687910404\n",
      "Epoch: 3, dev loss: 58.090533336003624, f1 score: 0.797680412371134\n",
      "--------Save best model!--------\n",
      "100%|█████████████████████████████████████████| 424/424 [02:34<00:00,  2.74it/s]\n",
      "Epoch: 5, train loss: 25.941466018838703\n",
      "Epoch: 5, dev loss: 63.53010857105255, f1 score: 0.7885604113110539\n",
      " 71%|█████████████████████████████▎           | 303/424 [01:48<00:35,  3.37it/s]"
     ]
    }
   ],
   "source": [
    "!cd /opt/tiger/run_trial/lyyf-BERT-CRF; rm -rf data/clue/*.npz; python3 run.py"
   ]
  },
  {
   "cell_type": "code",
   "execution_count": null,
   "id": "8f4dae8d",
   "metadata": {},
   "outputs": [],
   "source": []
  }
 ],
 "metadata": {
  "kernelspec": {
   "display_name": "Python 3 (ipykernel)",
   "language": "python",
   "name": "python3"
  },
  "language_info": {
   "codemirror_mode": {
    "name": "ipython",
    "version": 3
   },
   "file_extension": ".py",
   "mimetype": "text/x-python",
   "name": "python",
   "nbconvert_exporter": "python",
   "pygments_lexer": "ipython3",
   "version": "3.7.3"
  }
 },
 "nbformat": 4,
 "nbformat_minor": 5
}
